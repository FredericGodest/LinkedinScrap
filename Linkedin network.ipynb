{
 "cells": [
  {
   "cell_type": "markdown",
   "metadata": {},
   "source": [
    "# Import libraries"
   ]
  },
  {
   "cell_type": "code",
   "execution_count": 3,
   "metadata": {},
   "outputs": [],
   "source": [
    "from selenium import webdriver\n",
    "import time\n",
    "from selenium.webdriver.common.keys import Keys\n",
    "import pandas as pd\n",
    "import csv"
   ]
  },
  {
   "cell_type": "markdown",
   "metadata": {},
   "source": [
    "## Functions"
   ]
  },
  {
   "cell_type": "code",
   "execution_count": 4,
   "metadata": {},
   "outputs": [],
   "source": [
    "def login(email_login, password_login):\n",
    "    driver.get(\"https://www.linkedin.com/login/fr\")\n",
    "    #email\n",
    "    email = driver.find_element_by_name(\"session_key\")\n",
    "    email.send_keys(email_login)\n",
    "    #password\n",
    "    password = driver.find_element_by_name(\"session_password\")\n",
    "    password.send_keys(password_login)\n",
    "    #login button\n",
    "    button = driver.find_element_by_xpath(\"/html/body/div/main/div[2]/div[1]/form/div[3]/button\")\n",
    "    button.click()"
   ]
  },
  {
   "cell_type": "code",
   "execution_count": 5,
   "metadata": {},
   "outputs": [],
   "source": [
    "def scroll(timeout):\n",
    "    scroll_pause_time = timeout\n",
    "\n",
    "    # Get scroll height\n",
    "    last_height = driver.execute_script(\"return document.body.scrollHeight\")\n",
    "\n",
    "    while True:\n",
    "        # Scroll down to bottom\n",
    "        driver.execute_script(\"window.scrollTo(0, document.body.scrollHeight);\")\n",
    "\n",
    "        # Wait to load page\n",
    "        time.sleep(scroll_pause_time)\n",
    "\n",
    "        # Calculate new scroll height and compare with last scroll height\n",
    "        new_height = driver.execute_script(\"return document.body.scrollHeight\")\n",
    "        if new_height == last_height:\n",
    "            # If heights are the same it will exit the function\n",
    "            break\n",
    "        last_height = new_height\n",
    "\n",
    "        # Scroll UP to top to humazine\n",
    "        driver.execute_script(\"window.scrollTo(document.body.scrollHeight, 0);\")\n",
    "\n",
    "        # Wait to load page\n",
    "        time.sleep(scroll_pause_time/2)"
   ]
  },
  {
   "cell_type": "code",
   "execution_count": 6,
   "metadata": {},
   "outputs": [],
   "source": [
    "def network(timeout, origin):\n",
    "    driver.get(\"https://www.linkedin.com/mynetwork/invite-connect/connections/\")\n",
    "    scroll(timeout)\n",
    "\n",
    "    #Find Names\n",
    "    list_name = driver.find_elements_by_class_name(\"mn-connection-card__name\")\n",
    "    NAMES = [name.text for name in list_name]\n",
    "\n",
    "    #Find Links to profil\n",
    "    elems = driver.find_elements_by_class_name(\"mn-connection-card__link\")\n",
    "    LINKS = [elem.get_attribute('href') for elem in elems]\n",
    "\n",
    "    ORIGIN = [origin] * len(NAMES)\n",
    "\n",
    "    #Dataset Creation and save\n",
    "    d = {'Origin' : ORIGIN,\n",
    "         'Connexion' : NAMES,\n",
    "         'Links' : LINKS}\n",
    "    df = pd.DataFrame(data = d)\n",
    "    df.to_csv('out.csv', index=True)"
   ]
  },
  {
   "cell_type": "code",
   "execution_count": 7,
   "metadata": {},
   "outputs": [],
   "source": [
    "def get_network(name):\n",
    "    df = pd.read_csv('out.csv')\n",
    "    #go to given profil\n",
    "    link = df[df[\"Connexion\"] == name].Links\n",
    "    driver.get(link.values[0])\n",
    "\n",
    "    origin = name\n",
    "    NAMES = []\n",
    "\n",
    "    # network button\n",
    "    try :\n",
    "        button = driver.find_element_by_xpath(\"/html/body/div[7]/div[3]/div/div/div/div/div[2]/div/div/main/div/section/div[2]/ul/li/a\")\n",
    "        button.click()\n",
    "    except:\n",
    "        print(\"no network button\")\n",
    "        return NAMES \n",
    "    \n",
    "\n",
    "    #get number of pages\n",
    "    scroll(4)\n",
    "    # If number of pages is higher than 10\n",
    "    try :\n",
    "        pages = driver.find_element_by_xpath(\"/html/body/div[7]/div[3]/div/div[1]/div/div[1]/main/div/div/div[4]/div/div/ul/li[10]/button\")\n",
    "        pages = int(pages.text)\n",
    "    except:\n",
    "        pageButton = driver.find_elements_by_class_name(\"artdeco-pagination__indicator--number\")\n",
    "        pageButton = [page.text for page in pageButton]\n",
    "        pageButton.pop(-2)# remove '...'\n",
    "        pageButton = [int(page) for page in pageButton]\n",
    "        pages = max(pageButton)\n",
    "    \n",
    "    print(\"number of pages detected = \" + str(pages))\n",
    "        \n",
    "\n",
    "    # Find Names\n",
    "    for i in range(0, pages):\n",
    "        list_name = driver.find_elements_by_class_name(\"entity-result__title-text\")\n",
    "        names = [name.text for name in list_name]\n",
    "        names = [name.split(\"\\n\",1)[0] for name in names]\n",
    "        NAMES.append(names)\n",
    "\n",
    "        # next page button\n",
    "        nextButton = driver.find_element_by_class_name(\"artdeco-pagination__button--next\")\n",
    "        nextButton.click()\n",
    "\n",
    "        scroll(2) #mandatory\n",
    "\n",
    "    return NAMES"
   ]
  },
  {
   "cell_type": "code",
   "execution_count": 8,
   "metadata": {},
   "outputs": [],
   "source": [
    "def flatten_and_save(NameList, name):\n",
    "    #flatten\n",
    "    flatten_NAMES = []\n",
    "    for i in range (0, len(NameList) -1 ):\n",
    "        for j in range(0,len(NameList[0])):\n",
    "            flatten_NAMES.append(NameList[i][j])\n",
    "    \n",
    "    #flatten last row which might be different         \n",
    "    for i in range(0,len(NameList[-1])):\n",
    "        flatten_NAMES.append(NameList[-1][i])\n",
    "            \n",
    "    #save\n",
    "    ORIGIN = [name] * len(flatten_NAMES)\n",
    "\n",
    "    #Dataset Creation and save\n",
    "    d = {'Origin' : ORIGIN,\n",
    "         'Connexion' : flatten_NAMES}\n",
    "    \n",
    "    df1 = pd.read_csv('out_final.csv')\n",
    "    df2 = pd.DataFrame(data = d)\n",
    "    df3 = pd.concat([df1, df2],  join = 'inner')\n",
    "    df3 = df3.drop_duplicates()\n",
    "    df3.to_csv('out_final.csv', index=True)"
   ]
  },
  {
   "cell_type": "code",
   "execution_count": 9,
   "metadata": {},
   "outputs": [],
   "source": [
    "def export():\n",
    "    df = pd.read_csv('out_final.csv')\n",
    "    df = df.rename(columns={\"Origin\": \"source\", \"Connexion\": \"target\"})\n",
    "    data = df[[\"source\", \"target\"]].values.tolist()\n",
    "    header = df[[\"source\", \"target\"]].columns.values.tolist()\n",
    "\n",
    "    with open('gephi.csv', 'w', encoding='UTF8') as f:\n",
    "        writer = csv.writer(f)\n",
    "\n",
    "        # write the header\n",
    "        writer.writerow(header)\n",
    "\n",
    "        # write the data\n",
    "        writer.writerows(data)"
   ]
  },
  {
   "cell_type": "markdown",
   "metadata": {},
   "source": [
    "## Lauch and connect"
   ]
  },
  {
   "cell_type": "code",
   "execution_count": 35,
   "metadata": {},
   "outputs": [],
   "source": [
    "PATH_DRIVER = r\"/Users/FredericGodest/PycharmProjects/linkedinscrap/chromedriver\"\n",
    "PATH_MAIN = \"https://www.linkedin.com/mynetwork/invite-connect/connections/\"\n",
    "driver = webdriver.Chrome(PATH_DRIVER)\n",
    "\n",
    "print(\"Your Email ?\")\n",
    "email = input()\n",
    "print(\"Your Linkedin password ?\")\n",
    "mdp = input()\n",
    "print(\"Your name ?\")\n",
    "origin = input()\n",
    "\n",
    "\n",
    "login(email, mdp)"
   ]
  },
  {
   "cell_type": "markdown",
   "metadata": {},
   "source": [
    "## Get your network"
   ]
  },
  {
   "cell_type": "code",
   "execution_count": null,
   "metadata": {},
   "outputs": [],
   "source": [
    "network(5, origin)"
   ]
  },
  {
   "cell_type": "markdown",
   "metadata": {},
   "source": [
    "## Get network of someone"
   ]
  },
  {
   "cell_type": "code",
   "execution_count": null,
   "metadata": {},
   "outputs": [],
   "source": [
    "print(\"Name of the person scanned ? \")\n",
    "name = input()\n",
    "NAMES = get_network(name)\n",
    "flatten_and_save(NAMES, name)\n",
    "export()"
   ]
  }
 ],
 "metadata": {
  "kernelspec": {
   "display_name": "Python 3",
   "language": "python",
   "name": "python3"
  },
  "language_info": {
   "codemirror_mode": {
    "name": "ipython",
    "version": 3
   },
   "file_extension": ".py",
   "mimetype": "text/x-python",
   "name": "python",
   "nbconvert_exporter": "python",
   "pygments_lexer": "ipython3",
   "version": "3.7.4"
  }
 },
 "nbformat": 4,
 "nbformat_minor": 2
}
